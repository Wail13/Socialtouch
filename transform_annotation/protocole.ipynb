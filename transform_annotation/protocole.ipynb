{
 "cells": [
  {
   "cell_type": "markdown",
   "metadata": {
    "slideshow": {
     "slide_type": "fragment"
    }
   },
   "source": [
    "# Social touch protocol"
   ]
  },
  {
   "cell_type": "markdown",
   "metadata": {},
   "source": [
    "## 1.  Motivation"
   ]
  },
  {
   "cell_type": "markdown",
   "metadata": {},
   "source": [
    "#### The purpose of this preliminary study is to extract relevant informations about social touch gestures in each video of SATE (social affective touch expression) database. for instance:\n",
    " + #### Touch zones involved ( arm, chest, back,...).\n",
    " + #### Type of touch (stroke, tap, grab, hold,...).\n",
    " + #### Initiative (  subject whom starts the interaction).\n",
    " + #### Valence/Arousal.\n",
    "\n",
    "\n",
    "#### The first step, is to skim all social touch interactions videos and annotate them based on the variables described below (touch zones,...) and the touch vocabulary defined in section 2. Then, analyze the annotations data to decide which device to use and where the sensors will be placed in human body (zones)\n",
    " "
   ]
  },
  {
   "cell_type": "markdown",
   "metadata": {},
   "source": [
    "### *Protocol of the intended experiment*"
   ]
  },
  {
   "cell_type": "markdown",
   "metadata": {},
   "source": [
    "<img src=\"proto.jpg\" width=\"80%\"> "
   ]
  },
  {
   "cell_type": "markdown",
   "metadata": {},
   "source": [
    "## 2. Body parts and annotation"
   ]
  },
  {
   "cell_type": "markdown",
   "metadata": {},
   "source": [
    "| Number        | Name          |\n",
    "| ------------- |-------------| \n",
    "| 0             | hand         | \n",
    "| 1             | forearm        | \n",
    "| 2             | arm           | \n",
    "| 3             | shoulder      | \n",
    "| 4             | chest         | \n",
    "| 5             | abs           | \n",
    "| 6             | lower leg     | \n",
    "| 7             | upper back    | \n",
    "| 8             | lower back    | \n"
   ]
  },
  {
   "cell_type": "markdown",
   "metadata": {},
   "source": [
    "<img src=\"data/body.jpg\" width=\"40%\"> "
   ]
  },
  {
   "cell_type": "markdown",
   "metadata": {},
   "source": [
    "## 3. Exploratory analysis on ST data"
   ]
  },
  {
   "cell_type": "code",
   "execution_count": 35,
   "metadata": {},
   "outputs": [],
   "source": [
    "import pandas as pd\n",
    "from IPython.display import HTML\n",
    "import numpy as np\n",
    "import matplotlib.pyplot as plt\n",
    "import numpy as np\n",
    "import matplotlib.pyplot as plt\n",
    "from matplotlib.ticker import MaxNLocator\n",
    "from collections import namedtuple\n",
    "\n",
    "\n",
    "def bar(data):\n",
    "    sizes=np.sum(data,axis=0)\n",
    "    label=['hand','forearm','arm','shoul','chest','abs','uback','lback']\n",
    "    \n",
    "    plt.bar(label, sizes,label='Men')\n",
    "    plt.savefig('pie.png')\n",
    "    plt.show()\n",
    "    \n",
    "def do_classify(X,y):\n",
    "    importance=[]\n",
    "    scores=[]\n",
    "    for i in range(100):\n",
    "        clf = ExtraTreesClassifier(n_estimators=10)\n",
    "        clf = clf.fit(X, y)\n",
    "        scores.append(clf.score(X,y))\n",
    "        importance.append(clf.feature_importances_)  \n",
    "    \n",
    "    mean_importance=np.mean(importance,axis=0)\n",
    "    mean_scores=np.mean(scores)\n",
    "    return mean_importance,mean_scores\n",
    "\n",
    "df=pd.read_csv('/home/jan/Desktop/workspace/Social_touch/transform_annotation/data.csv',sep=',')\n",
    "\n"
   ]
  },
  {
   "cell_type": "code",
   "execution_count": 36,
   "metadata": {},
   "outputs": [],
   "source": [
    "df=df.drop(columns=['Unnamed: 0'])"
   ]
  },
  {
   "cell_type": "code",
   "execution_count": 1,
   "metadata": {},
   "outputs": [
    {
     "ename": "NameError",
     "evalue": "name 'HTML' is not defined",
     "output_type": "error",
     "traceback": [
      "\u001b[0;31m---------------------------------------------------------------------------\u001b[0m",
      "\u001b[0;31mNameError\u001b[0m                                 Traceback (most recent call last)",
      "\u001b[0;32m<ipython-input-1-eb82fc20cf18>\u001b[0m in \u001b[0;36m<module>\u001b[0;34m()\u001b[0m\n\u001b[0;32m----> 1\u001b[0;31m HTML(\"\"\"\n\u001b[0m\u001b[1;32m      2\u001b[0m \u001b[0;34m<\u001b[0m\u001b[0mdiv\u001b[0m \u001b[0malign\u001b[0m\u001b[0;34m=\u001b[0m\u001b[0;34m\"middle\"\u001b[0m\u001b[0;34m>\u001b[0m\u001b[0;34m\u001b[0m\u001b[0m\n\u001b[1;32m      3\u001b[0m \u001b[0;34m<\u001b[0m\u001b[0mvideo\u001b[0m \u001b[0mwidth\u001b[0m\u001b[0;34m=\u001b[0m\u001b[0;34m\"80%\"\u001b[0m \u001b[0mcontrols\u001b[0m\u001b[0;34m>\u001b[0m\u001b[0;34m\u001b[0m\u001b[0m\n\u001b[1;32m      4\u001b[0m       \u001b[0;34m<\u001b[0m\u001b[0msource\u001b[0m \u001b[0msrc\u001b[0m\u001b[0;34m=\u001b[0m\u001b[0;34m\"data/5.mp4\"\u001b[0m\u001b[0;34m>\u001b[0m\u001b[0;34m\u001b[0m\u001b[0m\n\u001b[1;32m      5\u001b[0m </video></div>\"\"\")\n",
      "\u001b[0;31mNameError\u001b[0m: name 'HTML' is not defined"
     ]
    }
   ],
   "source": [
    "HTML(\"\"\"\n",
    "<div align=\"middle\">\n",
    "<video width=\"80%\" controls>\n",
    "      <source src=\"data/5.mp4\">\n",
    "</video></div>\"\"\")"
   ]
  },
  {
   "cell_type": "code",
   "execution_count": 37,
   "metadata": {},
   "outputs": [
    {
     "name": "stdout",
     "output_type": "stream",
     "text": [
      "(144, 26)\n"
     ]
    },
    {
     "data": {
      "text/html": [
       "<div>\n",
       "<style scoped>\n",
       "    .dataframe tbody tr th:only-of-type {\n",
       "        vertical-align: middle;\n",
       "    }\n",
       "\n",
       "    .dataframe tbody tr th {\n",
       "        vertical-align: top;\n",
       "    }\n",
       "\n",
       "    .dataframe thead th {\n",
       "        text-align: right;\n",
       "    }\n",
       "</style>\n",
       "<table border=\"1\" class=\"dataframe\">\n",
       "  <thead>\n",
       "    <tr style=\"text-align: right;\">\n",
       "      <th></th>\n",
       "      <th>F0</th>\n",
       "      <th>F1</th>\n",
       "      <th>F2</th>\n",
       "      <th>F3</th>\n",
       "      <th>F4</th>\n",
       "      <th>F5</th>\n",
       "      <th>F6</th>\n",
       "      <th>F7</th>\n",
       "      <th>M0</th>\n",
       "      <th>M1</th>\n",
       "      <th>...</th>\n",
       "      <th>NAME</th>\n",
       "      <th>VIDEO_NUM</th>\n",
       "      <th>Actors-Pair</th>\n",
       "      <th>INITIATIVE_F</th>\n",
       "      <th>INITIATIVE_M</th>\n",
       "      <th>ACTION</th>\n",
       "      <th>Stimulus</th>\n",
       "      <th>Valence</th>\n",
       "      <th>Arousal</th>\n",
       "      <th>Motion Energy</th>\n",
       "    </tr>\n",
       "  </thead>\n",
       "  <tbody>\n",
       "    <tr>\n",
       "      <th>0</th>\n",
       "      <td>1.0</td>\n",
       "      <td>0.0</td>\n",
       "      <td>1.0</td>\n",
       "      <td>1.0</td>\n",
       "      <td>1.0</td>\n",
       "      <td>1.0</td>\n",
       "      <td>1.0</td>\n",
       "      <td>1.0</td>\n",
       "      <td>1.0</td>\n",
       "      <td>1.0</td>\n",
       "      <td>...</td>\n",
       "      <td>Emmanuel</td>\n",
       "      <td>2</td>\n",
       "      <td>1</td>\n",
       "      <td>0</td>\n",
       "      <td>1</td>\n",
       "      <td>hug</td>\n",
       "      <td>2</td>\n",
       "      <td>7.931818</td>\n",
       "      <td>6.5</td>\n",
       "      <td>565545.5625</td>\n",
       "    </tr>\n",
       "    <tr>\n",
       "      <th>1</th>\n",
       "      <td>1.0</td>\n",
       "      <td>0.0</td>\n",
       "      <td>1.0</td>\n",
       "      <td>0.0</td>\n",
       "      <td>1.0</td>\n",
       "      <td>1.0</td>\n",
       "      <td>1.0</td>\n",
       "      <td>1.0</td>\n",
       "      <td>1.0</td>\n",
       "      <td>0.0</td>\n",
       "      <td>...</td>\n",
       "      <td>Aymane</td>\n",
       "      <td>2</td>\n",
       "      <td>1</td>\n",
       "      <td>0</td>\n",
       "      <td>1</td>\n",
       "      <td>hug</td>\n",
       "      <td>2</td>\n",
       "      <td>7.931818</td>\n",
       "      <td>6.5</td>\n",
       "      <td>565545.5625</td>\n",
       "    </tr>\n",
       "    <tr>\n",
       "      <th>2</th>\n",
       "      <td>1.0</td>\n",
       "      <td>1.0</td>\n",
       "      <td>1.0</td>\n",
       "      <td>1.0</td>\n",
       "      <td>1.0</td>\n",
       "      <td>0.0</td>\n",
       "      <td>1.0</td>\n",
       "      <td>1.0</td>\n",
       "      <td>1.0</td>\n",
       "      <td>1.0</td>\n",
       "      <td>...</td>\n",
       "      <td>Giuseppe</td>\n",
       "      <td>2</td>\n",
       "      <td>1</td>\n",
       "      <td>0</td>\n",
       "      <td>1</td>\n",
       "      <td>hug</td>\n",
       "      <td>2</td>\n",
       "      <td>7.931818</td>\n",
       "      <td>6.5</td>\n",
       "      <td>565545.5625</td>\n",
       "    </tr>\n",
       "    <tr>\n",
       "      <th>3</th>\n",
       "      <td>1.0</td>\n",
       "      <td>0.0</td>\n",
       "      <td>1.0</td>\n",
       "      <td>1.0</td>\n",
       "      <td>1.0</td>\n",
       "      <td>1.0</td>\n",
       "      <td>1.0</td>\n",
       "      <td>1.0</td>\n",
       "      <td>1.0</td>\n",
       "      <td>1.0</td>\n",
       "      <td>...</td>\n",
       "      <td>Ayoub</td>\n",
       "      <td>2</td>\n",
       "      <td>1</td>\n",
       "      <td>0</td>\n",
       "      <td>1</td>\n",
       "      <td>hug</td>\n",
       "      <td>2</td>\n",
       "      <td>7.931818</td>\n",
       "      <td>6.5</td>\n",
       "      <td>565545.5625</td>\n",
       "    </tr>\n",
       "    <tr>\n",
       "      <th>4</th>\n",
       "      <td>1.0</td>\n",
       "      <td>1.0</td>\n",
       "      <td>1.0</td>\n",
       "      <td>1.0</td>\n",
       "      <td>1.0</td>\n",
       "      <td>0.0</td>\n",
       "      <td>1.0</td>\n",
       "      <td>1.0</td>\n",
       "      <td>1.0</td>\n",
       "      <td>1.0</td>\n",
       "      <td>...</td>\n",
       "      <td>Frank</td>\n",
       "      <td>2</td>\n",
       "      <td>1</td>\n",
       "      <td>0</td>\n",
       "      <td>1</td>\n",
       "      <td>hug</td>\n",
       "      <td>2</td>\n",
       "      <td>7.931818</td>\n",
       "      <td>6.5</td>\n",
       "      <td>565545.5625</td>\n",
       "    </tr>\n",
       "  </tbody>\n",
       "</table>\n",
       "<p>5 rows × 26 columns</p>\n",
       "</div>"
      ],
      "text/plain": [
       "    F0   F1   F2   F3   F4   F5   F6   F7   M0   M1      ...            NAME  \\\n",
       "0  1.0  0.0  1.0  1.0  1.0  1.0  1.0  1.0  1.0  1.0      ...        Emmanuel   \n",
       "1  1.0  0.0  1.0  0.0  1.0  1.0  1.0  1.0  1.0  0.0      ...          Aymane   \n",
       "2  1.0  1.0  1.0  1.0  1.0  0.0  1.0  1.0  1.0  1.0      ...        Giuseppe   \n",
       "3  1.0  0.0  1.0  1.0  1.0  1.0  1.0  1.0  1.0  1.0      ...           Ayoub   \n",
       "4  1.0  1.0  1.0  1.0  1.0  0.0  1.0  1.0  1.0  1.0      ...           Frank   \n",
       "\n",
       "   VIDEO_NUM  Actors-Pair  INITIATIVE_F  INITIATIVE_M  ACTION Stimulus  \\\n",
       "0          2            1             0             1     hug        2   \n",
       "1          2            1             0             1     hug        2   \n",
       "2          2            1             0             1     hug        2   \n",
       "3          2            1             0             1     hug        2   \n",
       "4          2            1             0             1     hug        2   \n",
       "\n",
       "    Valence  Arousal  Motion Energy  \n",
       "0  7.931818      6.5    565545.5625  \n",
       "1  7.931818      6.5    565545.5625  \n",
       "2  7.931818      6.5    565545.5625  \n",
       "3  7.931818      6.5    565545.5625  \n",
       "4  7.931818      6.5    565545.5625  \n",
       "\n",
       "[5 rows x 26 columns]"
      ]
     },
     "execution_count": 37,
     "metadata": {},
     "output_type": "execute_result"
    }
   ],
   "source": [
    "print(df.shape)\n",
    "df.head()\n"
   ]
  },
  {
   "cell_type": "markdown",
   "metadata": {},
   "source": [
    "## Variables definition "
   ]
  },
  {
   "cell_type": "markdown",
   "metadata": {},
   "source": [
    "#### In this clip (VIDEO_NUM=5) the F participant is stroking the M participant shoulder and arm.\n",
    "#### The activated zones are:\n",
    "+ #### F0=1 (female hand)\n",
    "+ #### M2=1 (male arm), M3=1(male shoulder)"
   ]
  },
  {
   "cell_type": "markdown",
   "metadata": {},
   "source": [
    "## Exploratory Analysis"
   ]
  },
  {
   "cell_type": "code",
   "execution_count": 38,
   "metadata": {},
   "outputs": [
    {
     "name": "stdout",
     "output_type": "stream",
     "text": [
      "(144, 26)  #videos and #attributes\n",
      "########### touch action ######################\n",
      "['Shake' 'Slap' 'Stroke' 'Tap' 'hug']\n"
     ]
    }
   ],
   "source": [
    "data=df.values\n",
    "print(data.shape,\" #videos and #attributes\")\n",
    "print(\"########### touch action ######################\")\n",
    "print(np.unique(data[:,-5]))\n",
    "\n"
   ]
  },
  {
   "cell_type": "code",
   "execution_count": 39,
   "metadata": {},
   "outputs": [
    {
     "name": "stdout",
     "output_type": "stream",
     "text": [
      "Number of each action \n"
     ]
    },
    {
     "data": {
      "image/png": "[encoded data removed]",
      "text/plain": [
       "<matplotlib.figure.Figure at 0x7fda6ee4f6a0>"
      ]
     },
     "metadata": {},
     "output_type": "display_data"
    }
   ],
   "source": [
    "plt.hist(data[:,-5],bins=50)\n",
    "print(\"Number of each action \")"
   ]
  },
  {
   "cell_type": "code",
   "execution_count": 41,
   "metadata": {},
   "outputs": [
    {
     "data": {
      "text/plain": [
       "nan"
      ]
     },
     "execution_count": 41,
     "metadata": {},
     "output_type": "execute_result"
    }
   ],
   "source": [
    "np.sum(data[:,:8])"
   ]
  },
  {
   "cell_type": "code",
   "execution_count": 32,
   "metadata": {},
   "outputs": [
    {
     "data": {
      "image/png": "[encoded data removed]",
      "text/plain": [
       "<matplotlib.figure.Figure at 0x7fda6e8c25c0>"
      ]
     },
     "metadata": {},
     "output_type": "display_data"
    }
   ],
   "source": [
    "n_groups = 8\n",
    "means_men = np.sum(data[:,:8],axis=0)\n",
    "means_women = np.sum(data[:,8:16],axis=0)\n",
    "fig, ax = plt.subplots()\n",
    "index = np.arange(n_groups)\n",
    "bar_width = 0.35\n",
    "\n",
    "opacity = 0.4\n",
    "error_config = {'ecolor': '0.3'}\n",
    "\n",
    "rects1 = ax.bar(index, means_men, bar_width,\n",
    "                alpha=opacity, color='b', error_kw=error_config,\n",
    "                label='Men')\n",
    "\n",
    "rects2 = ax.bar(index + bar_width, means_women, bar_width,\n",
    "                alpha=opacity, color='r', error_kw=error_config,\n",
    "                label='Women')\n",
    "\n",
    "ax.set_xlabel('body parts')\n",
    "ax.set_ylabel('#Number')\n",
    "ax.set_title('Activated body parts by gender')\n",
    "ax.set_xticks(index + bar_width / 2)\n",
    "ax.set_xticklabels(['hand','forearm','arm','shoul','chest','abs','l_leg','uback','lback'])\n",
    "ax.legend()\n",
    "\n",
    "\n",
    "fig.tight_layout()\n",
    "plt.show()\n",
    "fig.savefig('activation.png')"
   ]
  },
  {
   "cell_type": "markdown",
   "metadata": {},
   "source": [
    "####  *The most activated zones are:*\n",
    "+ Hand\n",
    "+ Forearm \n",
    "+ Arm\n",
    "+ shoulder"
   ]
  },
  {
   "cell_type": "markdown",
   "metadata": {},
   "source": [
    "### Tree-based feature selection"
   ]
  },
  {
   "cell_type": "code",
   "execution_count": 101,
   "metadata": {},
   "outputs": [
    {
     "name": "stdout",
     "output_type": "stream",
     "text": [
      "y_action (96,)\n",
      "y_action [0 1 4 5 6 7 2 3 0 1 4 5 6 7 2 3 0 1 4 5 6 7 2 3 0 1 4 5 6 7 2 3 0 1 4 5 6\n",
      " 7 2 3 0 1 4 5 6 7 2 3 0 1 4 5 6 7 2 3 0 1 4 5 6 7 2 3 0 1 4 5 6 7 2 3 0 1\n",
      " 4 5 6 7 2 3 0 1 4 5 6 7 2 3 0 1 4 5 6 7 2 3]\n",
      "y_valence (96,)\n",
      "y_valence [3 2 2 2 1 0 0 0 3 2 2 2 1 0 0 0 3 2 2 2 1 0 0 0 3 2 2 2 1 0 0 0 3 2 2 2 1\n",
      " 0 0 0 3 2 2 2 1 0 0 0 3 2 2 2 1 0 0 0 3 2 2 2 1 0 0 0 3 2 2 2 1 0 0 0 3 2\n",
      " 2 2 1 0 0 0 3 2 2 2 1 0 0 0 3 2 2 2 1 0 0 0]\n",
      "##################### X #############################\n",
      "Xshape (96, 16)\n",
      "[[1.0 0.0 0.0 0.0 0.0 0.0 0.0 0.0 0.0 0.0 1.0 1.0 0.0 0.0 0.0 0.0]\n",
      " [1.0 1.0 1.0 1.0 1.0 1.0 1.0 0.0 1.0 1.0 1.0 1.0 1.0 1.0 1.0 1.0]\n",
      " [1.0 0.0 0.0 0.0 1.0 1.0 1.0 1.0 1.0 1.0 1.0 1.0 1.0 1.0 0.0 0.0]\n",
      " [1.0 0.0 0.0 0.0 0.0 1.0 0.0 0.0 0.0 1.0 1.0 1.0 0.0 1.0 0.0 0.0]\n",
      " [1.0 0.0 0.0 0.0 0.0 0.0 0.0 0.0 0.0 1.0 1.0 1.0 0.0 0.0 0.0 0.0]\n",
      " [0.0 0.0 0.0 1.0 0.0 0.0 0.0 0.0 1.0 1.0 0.0 0.0 0.0 0.0 0.0 0.0]\n",
      " [0.0 0.0 1.0 1.0 0.0 0.0 0.0 0.0 1.0 1.0 0.0 0.0 0.0 0.0 0.0 0.0]\n",
      " [0.0 0.0 1.0 1.0 0.0 0.0 0.0 0.0 1.0 1.0 1.0 1.0 0.0 0.0 0.0 0.0]\n",
      " [0.0 0.0 0.0 1.0 0.0 0.0 0.0 0.0 1.0 1.0 1.0 0.0 0.0 0.0 0.0 0.0]\n",
      " [1.0 1.0 1.0 1.0 1.0 1.0 1.0 1.0 1.0 1.0 1.0 1.0 1.0 1.0 1.0 1.0]]\n"
     ]
    }
   ],
   "source": [
    "from sklearn.ensemble import ExtraTreesClassifier\n",
    "#keep=[4,5,6,7,13,14,15,16]\n",
    "data[:,21]=(data[:,21]-np.mean(data[:,21]))/np.std(data[:,21])\n",
    "X=data[:,0:16]\n",
    "########### action#############\n",
    "y_action=data[:,-2]\n",
    "y_action=pd.get_dummies(y_action).values\n",
    "y_action=np.argmax(y_action,axis=1)\n",
    "################ Valence #####################\n",
    "y_valence=data[:,-1]\n",
    "y_valence=pd.get_dummies(y_valence).values\n",
    "y_valence=np.argmax(y_valence,axis=1)\n",
    "################################################\n",
    "print(\"y_action\",y_action.shape)\n",
    "print('y_action',y_action)\n",
    "\n",
    "print(\"y_valence\",y_valence.shape)\n",
    "print('y_valence',y_valence)\n",
    "\n",
    "print('##################### X #############################')\n",
    "print(\"Xshape\",X.shape)\n",
    "\n",
    "print(X[:10])\n"
   ]
  },
  {
   "cell_type": "code",
   "execution_count": 102,
   "metadata": {},
   "outputs": [
    {
     "name": "stdout",
     "output_type": "stream",
     "text": [
      "[0.07435595 0.06951445 0.09259824 0.09799864 0.06999012 0.04319734\n",
      " 0.04343334 0.02174984 0.04489795 0.04381509 0.07680007 0.13833607\n",
      " 0.0788112  0.04287762 0.04492505 0.01669902]\n",
      "#############  Accuracy of the classifier for touch_zones/actions(hug,slap,...) 0.6875\n"
     ]
    }
   ],
   "source": [
    "mean_importance_action,mean_scores_action=do_classify(X,y_action)\n",
    "print(mean_importance_action)\n",
    "print('#############  Accuracy of the classifier for touch_zones/actions(hug,slap,...)',mean_scores_action)"
   ]
  },
  {
   "cell_type": "code",
   "execution_count": 103,
   "metadata": {},
   "outputs": [
    {
     "name": "stdout",
     "output_type": "stream",
     "text": [
      "[0.05205349 0.03943629 0.0426482  0.0333712  0.07051734 0.13122769\n",
      " 0.04242702 0.01114542 0.03557288 0.05439471 0.13163972 0.11429987\n",
      " 0.09228767 0.14144996 0.00592816 0.00160039]\n",
      "#############  Accuracy of the classifier for touch_zones/valence(positice,negative,...) 0.7916666666666669\n"
     ]
    }
   ],
   "source": [
    "mean_importance_valence,mean_scores_valence=do_classify(X,y_valence)\n",
    "print(mean_importance_valence)\n",
    "print('#############  Accuracy of the classifier for touch_zones/valence(positice,negative,...)',mean_scores_valence)"
   ]
  },
  {
   "cell_type": "code",
   "execution_count": 106,
   "metadata": {},
   "outputs": [
    {
     "name": "stdout",
     "output_type": "stream",
     "text": [
      "#############  Accuracy of the classifier for ME/action(positice,negative,...) 1.0\n"
     ]
    }
   ],
   "source": [
    "_,mean_scores_ME=do_classify(data[:,21].reshape(X.shape[0],1),y_action)\n",
    "print('#############  Accuracy of the classifier for ME/action(positice,negative,...)',mean_scores_ME)"
   ]
  },
  {
   "cell_type": "code",
   "execution_count": 107,
   "metadata": {},
   "outputs": [
    {
     "name": "stdout",
     "output_type": "stream",
     "text": [
      "#############  Accuracy of the classifier for ME/valence(positice,negative,...) 1.0\n"
     ]
    }
   ],
   "source": [
    "_,mean_scores_ME=do_classify(data[:,21].reshape(X.shape[0],1),y_valence)\n",
    "print('#############  Accuracy of the classifier for ME/valence(positice,negative,...)',mean_scores_ME)"
   ]
  },
  {
   "cell_type": "code",
   "execution_count": 110,
   "metadata": {},
   "outputs": [
    {
     "data": {
      "image/png": "[encoded data removed]",
      "text/plain": [
       "<matplotlib.figure.Figure at 0x7f9756916ac8>"
      ]
     },
     "metadata": {},
     "output_type": "display_data"
    }
   ],
   "source": [
    "x = np.arange(16)\n",
    "plt.bar(x, mean_importance_action)\n",
    "plt.xticks(x, df.columns[0:16])\n",
    "plt.xlabel(\"Body part involved Women/Men\")\n",
    "plt.ylabel(\"importance for classifying action\")\n",
    "plt.title('Body part importance ACTION')\n",
    "plt.savefig('importaction.png')\n",
    "plt.show()"
   ]
  },
  {
   "cell_type": "code",
   "execution_count": 111,
   "metadata": {},
   "outputs": [
    {
     "data": {
      "image/png": "[encoded data removed]",
      "text/plain": [
       "<matplotlib.figure.Figure at 0x7f9756885710>"
      ]
     },
     "metadata": {},
     "output_type": "display_data"
    }
   ],
   "source": [
    "x = np.arange(16)\n",
    "plt.bar(x, mean_importance_valence)\n",
    "plt.xticks(x, df.columns[0:16])\n",
    "plt.xlabel(\"Body part involved Women/Men\")\n",
    "plt.ylabel(\"importance for classifying valence\")\n",
    "plt.title('Body part importance VALENCE')\n",
    "plt.savefig('importacvalence.png')\n",
    "plt.show()"
   ]
  },
  {
   "cell_type": "markdown",
   "metadata": {},
   "source": [
    "#### *For touch gestures(Action) classification, the features (zones) are:*\n",
    "+ F0(hand) > F1(forearm) > F4(chest) >= F3(shoulder) ------>FEMALES\n",
    "+ M0(hand) > M3(shoulder) >= M2(arm) > M4(chest) ------->MALES"
   ]
  },
  {
   "cell_type": "code",
   "execution_count": 112,
   "metadata": {},
   "outputs": [
    {
     "data": {
      "image/png": "[encoded data removed]",
      "text/plain": [
       "<matplotlib.figure.Figure at 0x7f9756885860>"
      ]
     },
     "metadata": {},
     "output_type": "display_data"
    }
   ],
   "source": [
    "x = np.arange(16)\n",
    "plt.bar(x, np.sum(X,axis=0))\n",
    "plt.xticks(x, df.columns[0:16])\n",
    "plt.xlabel(\"Body part involved Female/Male\")\n",
    "plt.ylabel(\"Activation\")\n",
    "plt.show()"
   ]
  },
  {
   "cell_type": "markdown",
   "metadata": {},
   "source": [
    "#### * Touch gestures(Action) highly activated zones are:*\n",
    "+ F0(hand) > F1(forearm) > F3(shoulder) > F2(arm) ------>FEMALES\n",
    "+ M0(hand) > M2(arm) > M1(forearm) > M5(abs) ------->MALES\n"
   ]
  },
  {
   "cell_type": "markdown",
   "metadata": {},
   "source": [
    "## 4. Conclusion"
   ]
  },
  {
   "cell_type": "markdown",
   "metadata": {},
   "source": [
    "The minimal zones (body part) necessary to assure high classification accuray of gestures/actions to reproduce SATE are:\n",
    "+ hand \n",
    "+ forearm \n",
    "+ shoulder \n",
    "+ arm\n",
    "+ chest/upback (optional)"
   ]
  }
 ],
 "metadata": {
  "kernelspec": {
   "display_name": "Python 3",
   "language": "python",
   "name": "python3"
  },
  "language_info": {
   "codemirror_mode": {
    "name": "ipython",
    "version": 3
   },
   "file_extension": ".py",
   "mimetype": "text/x-python",
   "name": "python",
   "nbconvert_exporter": "python",
   "pygments_lexer": "ipython3",
   "version": "3.6.4"
  }
 },
 "nbformat": 4,
 "nbformat_minor": 2
}
