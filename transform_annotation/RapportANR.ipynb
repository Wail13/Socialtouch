{
 "cells": [
  {
   "cell_type": "markdown",
   "metadata": {},
   "source": [
    "# Imports and methods"
   ]
  },
  {
   "cell_type": "code",
   "execution_count": 35,
   "metadata": {},
   "outputs": [],
   "source": [
    "import pandas as pd\n",
    "from IPython.display import HTML\n",
    "import numpy as np\n",
    "import matplotlib.pyplot as plt\n",
    "import numpy as np\n",
    "import matplotlib.pyplot as plt\n",
    "from matplotlib.ticker import MaxNLocator\n",
    "from collections import namedtuple\n",
    "from sklearn.ensemble import ExtraTreesClassifier\n",
    "from sklearn.model_selection import train_test_split\n",
    "from sklearn import linear_model\n",
    "from keras.models import Sequential\n",
    "from keras.layers import Dense\n",
    "from sklearn.datasets import make_regression\n",
    "from sklearn.preprocessing import MinMaxScaler\n",
    "import numpy as np\n",
    "import warnings\n",
    "\n",
    "\n",
    "def bar(data):\n",
    "    sizes=np.sum(data,axis=0)\n",
    "    label=['hand','forearm','arm','shoul','chest','abs','uback','lback']\n",
    "    \n",
    "    plt.bar(label, sizes,label='Men')\n",
    "    plt.savefig('pie.png')\n",
    "    plt.show()\n",
    "    \n",
    "def do_classify(X,y,Xtest,ytest):\n",
    "    importance=[]\n",
    "    scores=[]\n",
    "    for i in range(100):\n",
    "        clf = ExtraTreesClassifier(n_estimators=10)\n",
    "        clf = clf.fit(X, y)\n",
    "        scores.append(clf.score(Xtest,ytest))\n",
    "        importance.append(clf.feature_importances_)  \n",
    "    \n",
    "    mean_importance=np.mean(importance,axis=0)\n",
    "    mean_scores=np.mean(scores)\n",
    "    return mean_importance,mean_scores\n",
    "########################################################################################################\n",
    "warnings.filterwarnings('ignore')\n",
    "df=pd.read_csv('/home/jan/Desktop/workspace/Social_touch/transform_annotation/data.csv',sep=',')\n",
    "df=df.drop(columns=['Unnamed: 0'])\n",
    "######################################################################################################\n",
    "data=df"
   ]
  },
  {
   "cell_type": "markdown",
   "metadata": {},
   "source": [
    "# The social touch experiment protocol "
   ]
  },
  {
   "cell_type": "markdown",
   "metadata": {},
   "source": [
    "## Purpose"
   ]
  },
  {
   "cell_type": "markdown",
   "metadata": {},
   "source": [
    "The purpose of this preliminary study is to model the relationship between touch events and the affective value (Valence/Arousal) that it holds in a social setting.<br>\n",
    "\n",
    "First and foremost, we want to emphasis that this study will be limited to one-way interaction, rather than modeling the interaction as a dynamical system where two persons exchange touches, back and forth.<br>\n",
    "\n",
    "In this experiment, participants will be asked to watch a specific set of videos from *(SATED)* that contains touch interactions, then, afterward, apply the same touch to a manikin, allowing us to collect data from the pressure sensor that are placed strategicaly on the manikin body.<br>\n",
    "\n",
    "At the end, using the experimental data from the human-manikin interactions, our system should be able to predict the emotions that occur from a touch-receiver standpoint.  \n"
   ]
  },
  {
   "cell_type": "markdown",
   "metadata": {},
   "source": [
    "## Protocol"
   ]
  },
  {
   "cell_type": "markdown",
   "metadata": {},
   "source": [
    "<img src=\"proto.jpg\" width=\"80%\"> "
   ]
  },
  {
   "cell_type": "markdown",
   "metadata": {},
   "source": [
    "## Part 1: Annotation and analysis"
   ]
  },
  {
   "cell_type": "markdown",
   "metadata": {},
   "source": [
    "Now that we have laid the foundation for our experiment, by defining a concise protocol. The only questions left unanswered are:\n",
    "- Where the pressure sensors will be placed on the manikin and why ?\n",
    "- What are the videos from the SATED (socio-affective touch database) we are going to show to the participants ?\n",
    "\n"
   ]
  },
  {
   "cell_type": "markdown",
   "metadata": {},
   "source": [
    "### 1.1 The chosen videos !"
   ]
  },
  {
   "cell_type": "markdown",
   "metadata": {},
   "source": [
    "The choice of a manikin as input device put heavy constraints on the number of videos (from SATED): only interactions that could be reproduced by participants on manikin are kept. Therefore, 24 videos were selected on this basis. \n"
   ]
  },
  {
   "cell_type": "markdown",
   "metadata": {},
   "source": [
    "#### Example.1: Reproducible video on manikin "
   ]
  },
  {
   "cell_type": "code",
   "execution_count": 19,
   "metadata": {},
   "outputs": [
    {
     "data": {
      "image/jpeg": "[encoded data removed]",
      "text/html": [
       "\n",
       "        <iframe\n",
       "            width=\"400\"\n",
       "            height=\"300\"\n",
       "            src=\"https://www.youtube.com/embed/YauLKk_F-qI\"\n",
       "            frameborder=\"0\"\n",
       "            allowfullscreen\n",
       "        ></iframe>\n",
       "        "
      ],
      "text/plain": [
       "<IPython.lib.display.YouTubeVideo at 0x7ff3842af668>"
      ]
     },
     "execution_count": 19,
     "metadata": {},
     "output_type": "execute_result"
    }
   ],
   "source": [
    "from IPython.lib.display import YouTubeVideo\n",
    "YouTubeVideo('YauLKk_F-qI')"
   ]
  },
  {
   "cell_type": "markdown",
   "metadata": {},
   "source": [
    "#### Example.2: Non reproducible video on manikin "
   ]
  },
  {
   "cell_type": "code",
   "execution_count": 20,
   "metadata": {},
   "outputs": [
    {
     "data": {
      "image/jpeg": "[encoded data removed]",
      "text/html": [
       "\n",
       "        <iframe\n",
       "            width=\"400\"\n",
       "            height=\"300\"\n",
       "            src=\"https://www.youtube.com/embed/RslYK3jNUlw\"\n",
       "            frameborder=\"0\"\n",
       "            allowfullscreen\n",
       "        ></iframe>\n",
       "        "
      ],
      "text/plain": [
       "<IPython.lib.display.YouTubeVideo at 0x7ff3748ed1d0>"
      ]
     },
     "execution_count": 20,
     "metadata": {},
     "output_type": "execute_result"
    }
   ],
   "source": [
    "from IPython.lib.display import YouTubeVideo\n",
    "YouTubeVideo('RslYK3jNUlw')"
   ]
  },
  {
   "cell_type": "markdown",
   "metadata": {},
   "source": [
    "#### Summary table of selected videos"
   ]
  },
  {
   "cell_type": "markdown",
   "metadata": {},
   "source": [
    "| Type          | Video_num          | Number        |\n",
    "| ------------- |-------------  | -------------\n",
    "| Hug           | 2,3,15,16,28,29          | 6\n",
    "| Stroke        | 4,5,17,18,30,31                     | 6\n",
    "| Tap           | 7,20,33           | 3\n",
    "| Shake         | 8,9,21,22,34,35      | 6\n",
    "| Slap          | 13,26         | 2\n",
    "\n"
   ]
  },
  {
   "cell_type": "markdown",
   "metadata": {},
   "source": [
    "### 1.2  Sensors and manikin"
   ]
  },
  {
   "cell_type": "markdown",
   "metadata": {},
   "source": [
    "There are many ways to place the sensors on the manikin. A wise choice, relies on choosing relevant manikin body part that suit the purpose of this study *Valence/Arousal/Action* classification.<br>\n",
    "\n",
    "First, after watching all the videos, we noticed that some areas, are more involved than others which leads us to ask the question:<br> \n",
    "Is there a small subset of the manikin body where we could put sensors that could result in a good accuracy score regarding our classification model ?<br>\n",
    "\n",
    "In order to back this claim we have conducted an online annotation sessions using google form, where participants indicates the activated body parts in an interaction.\n",
    "\n",
    "Participants in the annotation session were given an incentive to avoid random answers: The participant whom annotation is  closest to the average of all participants annotationbs will be granted 25 euro. \n",
    "\n",
    "Data collected from this experiment will also serve as way to make distinction between: the perception of a touch(annotating after watching a video) and execution of a touch (touching a manikin after watching a video)"
   ]
  },
  {
   "cell_type": "markdown",
   "metadata": {},
   "source": [
    "#### 1.2.1 Annotation form"
   ]
  },
  {
   "cell_type": "markdown",
   "metadata": {},
   "source": [
    "<img src=\"annotform.png\" width=\"40%\"> "
   ]
  },
  {
   "cell_type": "markdown",
   "metadata": {},
   "source": [
    "| Number        | Name          |\n",
    "| ------------- |-------------| \n",
    "| 0             | hand         | \n",
    "| 1             | forearm        | \n",
    "| 2             | arm           | \n",
    "| 3             | shoulder      | \n",
    "| 4             | chest         | \n",
    "| 5             | abs           | \n",
    "| 6             | lower leg     | \n",
    "| 7             | upper back    | \n",
    "| 8             | lower back    | "
   ]
  },
  {
   "cell_type": "markdown",
   "metadata": {},
   "source": [
    "<img src=\"body.jpg\" width=\"40%\"> "
   ]
  },
  {
   "cell_type": "markdown",
   "metadata": {},
   "source": [
    "#### 1.2.2 Exploratory data analysis on annotation data"
   ]
  },
  {
   "cell_type": "code",
   "execution_count": 38,
   "metadata": {
    "scrolled": true
   },
   "outputs": [
    {
     "name": "stdout",
     "output_type": "stream",
     "text": [
      "(138, 26)  #videos and #attributes\n",
      "########### touch action histogram ######################\n",
      "['Shake' 'Slap' 'Stroke' 'Tap' 'hug']\n",
      "Number of each action \n"
     ]
    },
    {
     "data": {
      "image/png": "[encoded data removed]",
      "text/plain": [
       "<matplotlib.figure.Figure at 0x7ff3747f3518>"
      ]
     },
     "metadata": {},
     "output_type": "display_data"
    }
   ],
   "source": [
    "print(data.shape,\" #videos and #attributes\")\n",
    "print(\"########### touch action histogram ######################\")\n",
    "print(np.unique(data.iloc[:,-5]))\n",
    "######################################### Action histogram #############################################################\n",
    "plt.hist(data.iloc[:,-5],bins=50)\n",
    "print(\"Number of each action \")"
   ]
  },
  {
   "cell_type": "code",
   "execution_count": 32,
   "metadata": {},
   "outputs": [
    {
     "data": {
      "text/plain": [
       "<matplotlib.legend.Legend at 0x7ff2e0d2ec50>"
      ]
     },
     "execution_count": 32,
     "metadata": {},
     "output_type": "execute_result"
    },
    {
     "data": {
      "image/png": "[encoded data removed]",
      "text/plain": [
       "<matplotlib.figure.Figure at 0x7ff2e0dc1400>"
      ]
     },
     "metadata": {},
     "output_type": "display_data"
    }
   ],
   "source": [
    "n_groups = 8\n",
    "means_men = np.sum(data.iloc[:,0:8],axis=0)\n",
    "means_women = np.sum(data.iloc[:,8:16],axis=0)\n",
    "fig, ax = plt.subplots()\n",
    "index = np.arange(n_groups)\n",
    "bar_width = 0.35\n",
    "\n",
    "opacity = 0.4\n",
    "error_config = {'ecolor': '0.3'}\n",
    "\n",
    "rects1 = ax.bar(index, means_men, bar_width,\n",
    "                alpha=opacity, color='b', error_kw=error_config,\n",
    "                label='Men')\n",
    "\n",
    "rects2 = ax.bar(index + bar_width, means_women, bar_width,\n",
    "                alpha=opacity, color='r', error_kw=error_config,\n",
    "                label='Women')\n",
    "\n",
    "ax.set_xlabel('body parts')\n",
    "ax.set_ylabel('#Number')\n",
    "ax.set_title('Activated body parts by gender')\n",
    "ax.set_xticks(index + bar_width / 2)\n",
    "ax.set_xticklabels(['hand','forearm','arm','shoul','chest','abs','l_leg','uback','lback'])\n",
    "ax.legend()"
   ]
  },
  {
   "cell_type": "markdown",
   "metadata": {},
   "source": [
    "### Preprocessing data"
   ]
  },
  {
   "cell_type": "code",
   "execution_count": 46,
   "metadata": {},
   "outputs": [],
   "source": [
    "X_women_touched=data[data.INITIATIVE_F==0]\n",
    "X_women_touched.drop(X_women_touched.columns[8:16], axis=1, inplace=True)\n",
    "X_women_touched.columns.values[0:8]=['T0','T1','T2','T3','T4','T5','T6','T7']\n",
    "X_women_touched['sex_touched']=0\n",
    "\n",
    "X_men_touched=data[data.INITIATIVE_F==1]\n",
    "X_men_touched.drop(X_men_touched.columns[0:8], axis=1, inplace=True)\n",
    "X_men_touched.columns.values[0:8]=['T0','T1','T2','T3','T4','T5','T6','T7']\n",
    "X_men_touched['sex_touched']=1     \n",
    "touched=pd.concat([X_women_touched,X_men_touched],axis=0,  ignore_index=True)   \n",
    "X_touched=touched.iloc[:,0:8].values\n",
    "########### action#############\n",
    "y_action=touched.iloc[:,-6]\n",
    "y_action=pd.get_dummies(y_action).values\n",
    "y_action=np.argmax(y_action,axis=1)\n",
    "################ Valence #####################\n",
    "y_valence=touched.iloc[:,-4]\n",
    "################### Arousal #####################\n",
    "y_arousal=touched.iloc[:,-3]\n",
    "###################  valence/arousal ###############################\n",
    "y_va=touched.iloc[:,-4:-2].values\n",
    "################# Motion energy ##################\n",
    "y_ME=touched.iloc[:,-2]\n"
   ]
  },
  {
   "cell_type": "markdown",
   "metadata": {},
   "source": [
    "### Activation data (touching==being touched)"
   ]
  },
  {
   "cell_type": "code",
   "execution_count": 37,
   "metadata": {},
   "outputs": [
    {
     "data": {
      "text/html": [
       "<div>\n",
       "<style scoped>\n",
       "    .dataframe tbody tr th:only-of-type {\n",
       "        vertical-align: middle;\n",
       "    }\n",
       "\n",
       "    .dataframe tbody tr th {\n",
       "        vertical-align: top;\n",
       "    }\n",
       "\n",
       "    .dataframe thead th {\n",
       "        text-align: right;\n",
       "    }\n",
       "</style>\n",
       "<table border=\"1\" class=\"dataframe\">\n",
       "  <thead>\n",
       "    <tr style=\"text-align: right;\">\n",
       "      <th></th>\n",
       "      <th>F0</th>\n",
       "      <th>F1</th>\n",
       "      <th>F2</th>\n",
       "      <th>F3</th>\n",
       "      <th>F4</th>\n",
       "      <th>F5</th>\n",
       "      <th>F6</th>\n",
       "      <th>F7</th>\n",
       "      <th>M0</th>\n",
       "      <th>M1</th>\n",
       "      <th>...</th>\n",
       "      <th>NAME</th>\n",
       "      <th>VIDEO_NUM</th>\n",
       "      <th>Actors-Pair</th>\n",
       "      <th>INITIATIVE_F</th>\n",
       "      <th>INITIATIVE_M</th>\n",
       "      <th>ACTION</th>\n",
       "      <th>Stimulus</th>\n",
       "      <th>Valence</th>\n",
       "      <th>Arousal</th>\n",
       "      <th>Motion Energy</th>\n",
       "    </tr>\n",
       "  </thead>\n",
       "  <tbody>\n",
       "    <tr>\n",
       "      <th>0</th>\n",
       "      <td>1.0</td>\n",
       "      <td>0.0</td>\n",
       "      <td>1.0</td>\n",
       "      <td>1.0</td>\n",
       "      <td>1.0</td>\n",
       "      <td>1.0</td>\n",
       "      <td>1.0</td>\n",
       "      <td>1.0</td>\n",
       "      <td>1.0</td>\n",
       "      <td>1.0</td>\n",
       "      <td>...</td>\n",
       "      <td>Emmanuel</td>\n",
       "      <td>2</td>\n",
       "      <td>1</td>\n",
       "      <td>0</td>\n",
       "      <td>1</td>\n",
       "      <td>hug</td>\n",
       "      <td>2</td>\n",
       "      <td>7.931818</td>\n",
       "      <td>6.5</td>\n",
       "      <td>565545.5625</td>\n",
       "    </tr>\n",
       "    <tr>\n",
       "      <th>1</th>\n",
       "      <td>1.0</td>\n",
       "      <td>0.0</td>\n",
       "      <td>1.0</td>\n",
       "      <td>0.0</td>\n",
       "      <td>1.0</td>\n",
       "      <td>1.0</td>\n",
       "      <td>1.0</td>\n",
       "      <td>1.0</td>\n",
       "      <td>1.0</td>\n",
       "      <td>0.0</td>\n",
       "      <td>...</td>\n",
       "      <td>Aymane</td>\n",
       "      <td>2</td>\n",
       "      <td>1</td>\n",
       "      <td>0</td>\n",
       "      <td>1</td>\n",
       "      <td>hug</td>\n",
       "      <td>2</td>\n",
       "      <td>7.931818</td>\n",
       "      <td>6.5</td>\n",
       "      <td>565545.5625</td>\n",
       "    </tr>\n",
       "    <tr>\n",
       "      <th>2</th>\n",
       "      <td>1.0</td>\n",
       "      <td>1.0</td>\n",
       "      <td>1.0</td>\n",
       "      <td>1.0</td>\n",
       "      <td>1.0</td>\n",
       "      <td>0.0</td>\n",
       "      <td>1.0</td>\n",
       "      <td>1.0</td>\n",
       "      <td>1.0</td>\n",
       "      <td>1.0</td>\n",
       "      <td>...</td>\n",
       "      <td>Giuseppe</td>\n",
       "      <td>2</td>\n",
       "      <td>1</td>\n",
       "      <td>0</td>\n",
       "      <td>1</td>\n",
       "      <td>hug</td>\n",
       "      <td>2</td>\n",
       "      <td>7.931818</td>\n",
       "      <td>6.5</td>\n",
       "      <td>565545.5625</td>\n",
       "    </tr>\n",
       "    <tr>\n",
       "      <th>3</th>\n",
       "      <td>1.0</td>\n",
       "      <td>0.0</td>\n",
       "      <td>1.0</td>\n",
       "      <td>1.0</td>\n",
       "      <td>1.0</td>\n",
       "      <td>1.0</td>\n",
       "      <td>1.0</td>\n",
       "      <td>1.0</td>\n",
       "      <td>1.0</td>\n",
       "      <td>1.0</td>\n",
       "      <td>...</td>\n",
       "      <td>Ayoub</td>\n",
       "      <td>2</td>\n",
       "      <td>1</td>\n",
       "      <td>0</td>\n",
       "      <td>1</td>\n",
       "      <td>hug</td>\n",
       "      <td>2</td>\n",
       "      <td>7.931818</td>\n",
       "      <td>6.5</td>\n",
       "      <td>565545.5625</td>\n",
       "    </tr>\n",
       "    <tr>\n",
       "      <th>4</th>\n",
       "      <td>1.0</td>\n",
       "      <td>1.0</td>\n",
       "      <td>1.0</td>\n",
       "      <td>1.0</td>\n",
       "      <td>1.0</td>\n",
       "      <td>0.0</td>\n",
       "      <td>1.0</td>\n",
       "      <td>1.0</td>\n",
       "      <td>1.0</td>\n",
       "      <td>1.0</td>\n",
       "      <td>...</td>\n",
       "      <td>Frank</td>\n",
       "      <td>2</td>\n",
       "      <td>1</td>\n",
       "      <td>0</td>\n",
       "      <td>1</td>\n",
       "      <td>hug</td>\n",
       "      <td>2</td>\n",
       "      <td>7.931818</td>\n",
       "      <td>6.5</td>\n",
       "      <td>565545.5625</td>\n",
       "    </tr>\n",
       "  </tbody>\n",
       "</table>\n",
       "<p>5 rows × 26 columns</p>\n",
       "</div>"
      ],
      "text/plain": [
       "    F0   F1   F2   F3   F4   F5   F6   F7   M0   M1      ...            NAME  \\\n",
       "0  1.0  0.0  1.0  1.0  1.0  1.0  1.0  1.0  1.0  1.0      ...        Emmanuel   \n",
       "1  1.0  0.0  1.0  0.0  1.0  1.0  1.0  1.0  1.0  0.0      ...          Aymane   \n",
       "2  1.0  1.0  1.0  1.0  1.0  0.0  1.0  1.0  1.0  1.0      ...        Giuseppe   \n",
       "3  1.0  0.0  1.0  1.0  1.0  1.0  1.0  1.0  1.0  1.0      ...           Ayoub   \n",
       "4  1.0  1.0  1.0  1.0  1.0  0.0  1.0  1.0  1.0  1.0      ...           Frank   \n",
       "\n",
       "   VIDEO_NUM  Actors-Pair  INITIATIVE_F  INITIATIVE_M  ACTION Stimulus  \\\n",
       "0          2            1             0             1     hug        2   \n",
       "1          2            1             0             1     hug        2   \n",
       "2          2            1             0             1     hug        2   \n",
       "3          2            1             0             1     hug        2   \n",
       "4          2            1             0             1     hug        2   \n",
       "\n",
       "    Valence  Arousal  Motion Energy  \n",
       "0  7.931818      6.5    565545.5625  \n",
       "1  7.931818      6.5    565545.5625  \n",
       "2  7.931818      6.5    565545.5625  \n",
       "3  7.931818      6.5    565545.5625  \n",
       "4  7.931818      6.5    565545.5625  \n",
       "\n",
       "[5 rows x 26 columns]"
      ]
     },
     "execution_count": 37,
     "metadata": {},
     "output_type": "execute_result"
    }
   ],
   "source": [
    "data.head()"
   ]
  },
  {
   "cell_type": "markdown",
   "metadata": {},
   "source": [
    "### Female touched data"
   ]
  },
  {
   "cell_type": "code",
   "execution_count": 39,
   "metadata": {},
   "outputs": [
    {
     "data": {
      "text/html": [
       "<div>\n",
       "<style scoped>\n",
       "    .dataframe tbody tr th:only-of-type {\n",
       "        vertical-align: middle;\n",
       "    }\n",
       "\n",
       "    .dataframe tbody tr th {\n",
       "        vertical-align: top;\n",
       "    }\n",
       "\n",
       "    .dataframe thead th {\n",
       "        text-align: right;\n",
       "    }\n",
       "</style>\n",
       "<table border=\"1\" class=\"dataframe\">\n",
       "  <thead>\n",
       "    <tr style=\"text-align: right;\">\n",
       "      <th></th>\n",
       "      <th>T0</th>\n",
       "      <th>T1</th>\n",
       "      <th>T2</th>\n",
       "      <th>T3</th>\n",
       "      <th>T4</th>\n",
       "      <th>T5</th>\n",
       "      <th>T6</th>\n",
       "      <th>T7</th>\n",
       "      <th>NAME</th>\n",
       "      <th>VIDEO_NUM</th>\n",
       "      <th>Actors-Pair</th>\n",
       "      <th>INITIATIVE_F</th>\n",
       "      <th>INITIATIVE_M</th>\n",
       "      <th>ACTION</th>\n",
       "      <th>Stimulus</th>\n",
       "      <th>Valence</th>\n",
       "      <th>Arousal</th>\n",
       "      <th>Motion Energy</th>\n",
       "      <th>sex_touched</th>\n",
       "    </tr>\n",
       "  </thead>\n",
       "  <tbody>\n",
       "    <tr>\n",
       "      <th>0</th>\n",
       "      <td>1.0</td>\n",
       "      <td>0.0</td>\n",
       "      <td>1.0</td>\n",
       "      <td>1.0</td>\n",
       "      <td>1.0</td>\n",
       "      <td>1.0</td>\n",
       "      <td>1.0</td>\n",
       "      <td>1.0</td>\n",
       "      <td>Emmanuel</td>\n",
       "      <td>2</td>\n",
       "      <td>1</td>\n",
       "      <td>0</td>\n",
       "      <td>1</td>\n",
       "      <td>hug</td>\n",
       "      <td>2</td>\n",
       "      <td>7.931818</td>\n",
       "      <td>6.5</td>\n",
       "      <td>565545.5625</td>\n",
       "      <td>0</td>\n",
       "    </tr>\n",
       "    <tr>\n",
       "      <th>1</th>\n",
       "      <td>1.0</td>\n",
       "      <td>0.0</td>\n",
       "      <td>1.0</td>\n",
       "      <td>0.0</td>\n",
       "      <td>1.0</td>\n",
       "      <td>1.0</td>\n",
       "      <td>1.0</td>\n",
       "      <td>1.0</td>\n",
       "      <td>Aymane</td>\n",
       "      <td>2</td>\n",
       "      <td>1</td>\n",
       "      <td>0</td>\n",
       "      <td>1</td>\n",
       "      <td>hug</td>\n",
       "      <td>2</td>\n",
       "      <td>7.931818</td>\n",
       "      <td>6.5</td>\n",
       "      <td>565545.5625</td>\n",
       "      <td>0</td>\n",
       "    </tr>\n",
       "    <tr>\n",
       "      <th>2</th>\n",
       "      <td>1.0</td>\n",
       "      <td>1.0</td>\n",
       "      <td>1.0</td>\n",
       "      <td>1.0</td>\n",
       "      <td>1.0</td>\n",
       "      <td>0.0</td>\n",
       "      <td>1.0</td>\n",
       "      <td>1.0</td>\n",
       "      <td>Giuseppe</td>\n",
       "      <td>2</td>\n",
       "      <td>1</td>\n",
       "      <td>0</td>\n",
       "      <td>1</td>\n",
       "      <td>hug</td>\n",
       "      <td>2</td>\n",
       "      <td>7.931818</td>\n",
       "      <td>6.5</td>\n",
       "      <td>565545.5625</td>\n",
       "      <td>0</td>\n",
       "    </tr>\n",
       "    <tr>\n",
       "      <th>3</th>\n",
       "      <td>1.0</td>\n",
       "      <td>0.0</td>\n",
       "      <td>1.0</td>\n",
       "      <td>1.0</td>\n",
       "      <td>1.0</td>\n",
       "      <td>1.0</td>\n",
       "      <td>1.0</td>\n",
       "      <td>1.0</td>\n",
       "      <td>Ayoub</td>\n",
       "      <td>2</td>\n",
       "      <td>1</td>\n",
       "      <td>0</td>\n",
       "      <td>1</td>\n",
       "      <td>hug</td>\n",
       "      <td>2</td>\n",
       "      <td>7.931818</td>\n",
       "      <td>6.5</td>\n",
       "      <td>565545.5625</td>\n",
       "      <td>0</td>\n",
       "    </tr>\n",
       "    <tr>\n",
       "      <th>4</th>\n",
       "      <td>1.0</td>\n",
       "      <td>1.0</td>\n",
       "      <td>1.0</td>\n",
       "      <td>1.0</td>\n",
       "      <td>1.0</td>\n",
       "      <td>0.0</td>\n",
       "      <td>1.0</td>\n",
       "      <td>1.0</td>\n",
       "      <td>Frank</td>\n",
       "      <td>2</td>\n",
       "      <td>1</td>\n",
       "      <td>0</td>\n",
       "      <td>1</td>\n",
       "      <td>hug</td>\n",
       "      <td>2</td>\n",
       "      <td>7.931818</td>\n",
       "      <td>6.5</td>\n",
       "      <td>565545.5625</td>\n",
       "      <td>0</td>\n",
       "    </tr>\n",
       "  </tbody>\n",
       "</table>\n",
       "</div>"
      ],
      "text/plain": [
       "    T0   T1   T2   T3   T4   T5   T6   T7      NAME  VIDEO_NUM  Actors-Pair  \\\n",
       "0  1.0  0.0  1.0  1.0  1.0  1.0  1.0  1.0  Emmanuel          2            1   \n",
       "1  1.0  0.0  1.0  0.0  1.0  1.0  1.0  1.0    Aymane          2            1   \n",
       "2  1.0  1.0  1.0  1.0  1.0  0.0  1.0  1.0  Giuseppe          2            1   \n",
       "3  1.0  0.0  1.0  1.0  1.0  1.0  1.0  1.0     Ayoub          2            1   \n",
       "4  1.0  1.0  1.0  1.0  1.0  0.0  1.0  1.0     Frank          2            1   \n",
       "\n",
       "   INITIATIVE_F  INITIATIVE_M ACTION  Stimulus   Valence  Arousal  \\\n",
       "0             0             1    hug         2  7.931818      6.5   \n",
       "1             0             1    hug         2  7.931818      6.5   \n",
       "2             0             1    hug         2  7.931818      6.5   \n",
       "3             0             1    hug         2  7.931818      6.5   \n",
       "4             0             1    hug         2  7.931818      6.5   \n",
       "\n",
       "   Motion Energy  sex_touched  \n",
       "0    565545.5625            0  \n",
       "1    565545.5625            0  \n",
       "2    565545.5625            0  \n",
       "3    565545.5625            0  \n",
       "4    565545.5625            0  "
      ]
     },
     "execution_count": 39,
     "metadata": {},
     "output_type": "execute_result"
    }
   ],
   "source": [
    "X_women_touched.head()"
   ]
  },
  {
   "cell_type": "markdown",
   "metadata": {},
   "source": [
    "### Male touched data "
   ]
  },
  {
   "cell_type": "code",
   "execution_count": 40,
   "metadata": {},
   "outputs": [
    {
     "data": {
      "text/html": [
       "<div>\n",
       "<style scoped>\n",
       "    .dataframe tbody tr th:only-of-type {\n",
       "        vertical-align: middle;\n",
       "    }\n",
       "\n",
       "    .dataframe tbody tr th {\n",
       "        vertical-align: top;\n",
       "    }\n",
       "\n",
       "    .dataframe thead th {\n",
       "        text-align: right;\n",
       "    }\n",
       "</style>\n",
       "<table border=\"1\" class=\"dataframe\">\n",
       "  <thead>\n",
       "    <tr style=\"text-align: right;\">\n",
       "      <th></th>\n",
       "      <th>T0</th>\n",
       "      <th>T1</th>\n",
       "      <th>T2</th>\n",
       "      <th>T3</th>\n",
       "      <th>T4</th>\n",
       "      <th>T5</th>\n",
       "      <th>T6</th>\n",
       "      <th>T7</th>\n",
       "      <th>NAME</th>\n",
       "      <th>VIDEO_NUM</th>\n",
       "      <th>Actors-Pair</th>\n",
       "      <th>INITIATIVE_F</th>\n",
       "      <th>INITIATIVE_M</th>\n",
       "      <th>ACTION</th>\n",
       "      <th>Stimulus</th>\n",
       "      <th>Valence</th>\n",
       "      <th>Arousal</th>\n",
       "      <th>Motion Energy</th>\n",
       "      <th>sex_touched</th>\n",
       "    </tr>\n",
       "  </thead>\n",
       "  <tbody>\n",
       "    <tr>\n",
       "      <th>12</th>\n",
       "      <td>0.0</td>\n",
       "      <td>0.0</td>\n",
       "      <td>0.0</td>\n",
       "      <td>1.0</td>\n",
       "      <td>0.0</td>\n",
       "      <td>1.0</td>\n",
       "      <td>0.0</td>\n",
       "      <td>0.0</td>\n",
       "      <td>Emmanuel</td>\n",
       "      <td>4</td>\n",
       "      <td>1</td>\n",
       "      <td>1</td>\n",
       "      <td>0</td>\n",
       "      <td>Stroke</td>\n",
       "      <td>4</td>\n",
       "      <td>7.454545</td>\n",
       "      <td>5.931818</td>\n",
       "      <td>424614.3125</td>\n",
       "      <td>1</td>\n",
       "    </tr>\n",
       "    <tr>\n",
       "      <th>13</th>\n",
       "      <td>0.0</td>\n",
       "      <td>0.0</td>\n",
       "      <td>1.0</td>\n",
       "      <td>1.0</td>\n",
       "      <td>0.0</td>\n",
       "      <td>1.0</td>\n",
       "      <td>0.0</td>\n",
       "      <td>0.0</td>\n",
       "      <td>Aymane</td>\n",
       "      <td>4</td>\n",
       "      <td>1</td>\n",
       "      <td>1</td>\n",
       "      <td>0</td>\n",
       "      <td>Stroke</td>\n",
       "      <td>4</td>\n",
       "      <td>7.454545</td>\n",
       "      <td>5.931818</td>\n",
       "      <td>424614.3125</td>\n",
       "      <td>1</td>\n",
       "    </tr>\n",
       "    <tr>\n",
       "      <th>14</th>\n",
       "      <td>0.0</td>\n",
       "      <td>0.0</td>\n",
       "      <td>1.0</td>\n",
       "      <td>1.0</td>\n",
       "      <td>0.0</td>\n",
       "      <td>1.0</td>\n",
       "      <td>0.0</td>\n",
       "      <td>0.0</td>\n",
       "      <td>Giuseppe</td>\n",
       "      <td>4</td>\n",
       "      <td>1</td>\n",
       "      <td>1</td>\n",
       "      <td>0</td>\n",
       "      <td>Stroke</td>\n",
       "      <td>4</td>\n",
       "      <td>7.454545</td>\n",
       "      <td>5.931818</td>\n",
       "      <td>424614.3125</td>\n",
       "      <td>1</td>\n",
       "    </tr>\n",
       "    <tr>\n",
       "      <th>15</th>\n",
       "      <td>0.0</td>\n",
       "      <td>0.0</td>\n",
       "      <td>1.0</td>\n",
       "      <td>1.0</td>\n",
       "      <td>0.0</td>\n",
       "      <td>0.0</td>\n",
       "      <td>0.0</td>\n",
       "      <td>0.0</td>\n",
       "      <td>Ayoub</td>\n",
       "      <td>4</td>\n",
       "      <td>1</td>\n",
       "      <td>1</td>\n",
       "      <td>0</td>\n",
       "      <td>Stroke</td>\n",
       "      <td>4</td>\n",
       "      <td>7.454545</td>\n",
       "      <td>5.931818</td>\n",
       "      <td>424614.3125</td>\n",
       "      <td>1</td>\n",
       "    </tr>\n",
       "    <tr>\n",
       "      <th>16</th>\n",
       "      <td>0.0</td>\n",
       "      <td>1.0</td>\n",
       "      <td>1.0</td>\n",
       "      <td>0.0</td>\n",
       "      <td>0.0</td>\n",
       "      <td>0.0</td>\n",
       "      <td>0.0</td>\n",
       "      <td>0.0</td>\n",
       "      <td>Frank</td>\n",
       "      <td>4</td>\n",
       "      <td>1</td>\n",
       "      <td>1</td>\n",
       "      <td>0</td>\n",
       "      <td>Stroke</td>\n",
       "      <td>4</td>\n",
       "      <td>7.454545</td>\n",
       "      <td>5.931818</td>\n",
       "      <td>424614.3125</td>\n",
       "      <td>1</td>\n",
       "    </tr>\n",
       "  </tbody>\n",
       "</table>\n",
       "</div>"
      ],
      "text/plain": [
       "     T0   T1   T2   T3   T4   T5   T6   T7      NAME  VIDEO_NUM  Actors-Pair  \\\n",
       "12  0.0  0.0  0.0  1.0  0.0  1.0  0.0  0.0  Emmanuel          4            1   \n",
       "13  0.0  0.0  1.0  1.0  0.0  1.0  0.0  0.0    Aymane          4            1   \n",
       "14  0.0  0.0  1.0  1.0  0.0  1.0  0.0  0.0  Giuseppe          4            1   \n",
       "15  0.0  0.0  1.0  1.0  0.0  0.0  0.0  0.0     Ayoub          4            1   \n",
       "16  0.0  1.0  1.0  0.0  0.0  0.0  0.0  0.0     Frank          4            1   \n",
       "\n",
       "    INITIATIVE_F  INITIATIVE_M  ACTION  Stimulus   Valence   Arousal  \\\n",
       "12             1             0  Stroke         4  7.454545  5.931818   \n",
       "13             1             0  Stroke         4  7.454545  5.931818   \n",
       "14             1             0  Stroke         4  7.454545  5.931818   \n",
       "15             1             0  Stroke         4  7.454545  5.931818   \n",
       "16             1             0  Stroke         4  7.454545  5.931818   \n",
       "\n",
       "    Motion Energy  sex_touched  \n",
       "12    424614.3125            1  \n",
       "13    424614.3125            1  \n",
       "14    424614.3125            1  \n",
       "15    424614.3125            1  \n",
       "16    424614.3125            1  "
      ]
     },
     "execution_count": 40,
     "metadata": {},
     "output_type": "execute_result"
    }
   ],
   "source": [
    "X_men_touched.head()"
   ]
  },
  {
   "cell_type": "markdown",
   "metadata": {},
   "source": [
    "### Mixing both female and male data"
   ]
  },
  {
   "cell_type": "code",
   "execution_count": 53,
   "metadata": {},
   "outputs": [
    {
     "name": "stdout",
     "output_type": "stream",
     "text": [
      "############# Area that being touched #################\n",
      "[[1. 0. 1. ... 1. 1. 1.]\n",
      " [1. 0. 1. ... 1. 1. 1.]\n",
      " [1. 1. 1. ... 0. 1. 1.]\n",
      " ...\n",
      " [0. 0. 0. ... 0. 0. 0.]\n",
      " [0. 0. 0. ... 0. 0. 0.]\n",
      " [0. 0. 0. ... 0. 0. 0.]]\n",
      "#############Action #################\n",
      "[4 4 4 4 4 4 4 4 4 4]\n",
      "#############Valence #################\n",
      "0    7.931818\n",
      "1    7.931818\n",
      "2    7.931818\n",
      "3    7.931818\n",
      "4    7.931818\n",
      "5    7.931818\n",
      "6    7.409091\n",
      "7    7.409091\n",
      "8    7.409091\n",
      "9    7.409091\n",
      "Name: Valence, dtype: float64\n",
      "#############Arousal #################\n",
      "0    6.500000\n",
      "1    6.500000\n",
      "2    6.500000\n",
      "3    6.500000\n",
      "4    6.500000\n",
      "5    6.500000\n",
      "6    5.977273\n",
      "7    5.977273\n",
      "8    5.977273\n",
      "9    5.977273\n",
      "Name: Arousal, dtype: float64\n",
      "#############Motion-Energy #################\n",
      "0    565545.5625\n",
      "1    565545.5625\n",
      "2    565545.5625\n",
      "3    565545.5625\n",
      "4    565545.5625\n",
      "5    565545.5625\n",
      "6    812516.9375\n",
      "7    812516.9375\n",
      "8    812516.9375\n",
      "9    812516.9375\n",
      "Name: Motion Energy, dtype: float64\n"
     ]
    }
   ],
   "source": [
    "print('############# Area that being touched #################')\n",
    "print(X_touched)\n",
    "print('#############Action #################')\n",
    "print(y_action[:10])\n",
    "print('#############Valence #################')\n",
    "print(y_valence[:10])\n",
    "print('#############Arousal #################')\n",
    "print(y_arousal[:10])\n",
    "print('#############Motion-Energy #################')\n",
    "print(y_ME[:10])"
   ]
  },
  {
   "cell_type": "markdown",
   "metadata": {},
   "source": [
    "### Classification and manikin zones importance"
   ]
  },
  {
   "cell_type": "markdown",
   "metadata": {},
   "source": [
    "#### Touch-zones ------> Action"
   ]
  },
  {
   "cell_type": "code",
   "execution_count": 77,
   "metadata": {},
   "outputs": [
    {
     "name": "stdout",
     "output_type": "stream",
     "text": [
      "#############  Accuracy of the classifier for touch_zones---->actions 0.8043478260869567\n"
     ]
    }
   ],
   "source": [
    "X_train, X_test, y_train, y_test = train_test_split(\n",
    "    X_touched, np.round(y_action), test_size=0.33, random_state=42)\n",
    "\n",
    "mean_importance_action,mean_scores_action=do_classify(X_train,y_train,X_test,y_test)\n",
    "print('#############  Accuracy of the classifier for touch_zones---->actions',mean_scores_action)\n"
   ]
  },
  {
   "cell_type": "markdown",
   "metadata": {},
   "source": [
    "#### Touch-zones ------> Valence"
   ]
  },
  {
   "cell_type": "code",
   "execution_count": 78,
   "metadata": {},
   "outputs": [
    {
     "name": "stdout",
     "output_type": "stream",
     "text": [
      "#############  Accuracy of the classifier for touch_zones---->Valence 0.6304347826086957\n"
     ]
    }
   ],
   "source": [
    "X_train, X_test, y_train, y_test = train_test_split(\n",
    "    X_touched, np.round(y_valence), test_size=0.33, random_state=42)\n",
    "\n",
    "mean_importance_valence,mean_scores_valence=do_classify(X_train,y_train,X_test,y_test)\n",
    "print('#############  Accuracy of the classifier for touch_zones---->Valence',mean_scores_valence)\n"
   ]
  },
  {
   "cell_type": "markdown",
   "metadata": {},
   "source": [
    "#### Touch-zones ------> Arousal"
   ]
  },
  {
   "cell_type": "code",
   "execution_count": 79,
   "metadata": {},
   "outputs": [
    {
     "name": "stdout",
     "output_type": "stream",
     "text": [
      "#############  Accuracy of the classifier for touch_zones---->arousal 0.6304347826086957\n"
     ]
    }
   ],
   "source": [
    "X_train, X_test, y_train, y_test = train_test_split(\n",
    "    X_touched, np.round(y_arousal), test_size=0.33, random_state=42)\n",
    "\n",
    "mean_importance_arousal,mean_scores_arousal=do_classify(X_train,y_train,X_test,y_test)\n",
    "print('#############  Accuracy of the classifier for touch_zones---->arousal',mean_scores_valence)\n"
   ]
  },
  {
   "cell_type": "markdown",
   "metadata": {},
   "source": [
    "#### Zones importance for Action classification"
   ]
  },
  {
   "cell_type": "code",
   "execution_count": 80,
   "metadata": {},
   "outputs": [
    {
     "data": {
      "text/plain": [
       "<Container object of 8 artists>"
      ]
     },
     "execution_count": 80,
     "metadata": {},
     "output_type": "execute_result"
    },
    {
     "data": {
      "image/png": "[encoded data removed]",
      "text/plain": [
       "<matplotlib.figure.Figure at 0x7ff2de905160>"
      ]
     },
     "metadata": {},
     "output_type": "display_data"
    }
   ],
   "source": [
    "zones=['Hand','fore','arm','shoul','chst','abs','upbk','lowbk']\n",
    "fig = plt.figure()\n",
    "ax = plt.subplot(111)\n",
    "ax.bar(zones, mean_importance_action)\n",
    "\n"
   ]
  },
  {
   "cell_type": "markdown",
   "metadata": {},
   "source": [
    "#### Zones importance for Valence classification"
   ]
  },
  {
   "cell_type": "code",
   "execution_count": 81,
   "metadata": {},
   "outputs": [
    {
     "data": {
      "text/plain": [
       "<Container object of 8 artists>"
      ]
     },
     "execution_count": 81,
     "metadata": {},
     "output_type": "execute_result"
    },
    {
     "data": {
      "image/png": "[encoded data removed]",
      "text/plain": [
       "<matplotlib.figure.Figure at 0x7ff2de9472e8>"
      ]
     },
     "metadata": {},
     "output_type": "display_data"
    }
   ],
   "source": [
    "zones=['Hand','fore','arm','shoul','chst','abs','upbk','lowbk']\n",
    "fig = plt.figure()\n",
    "ax = plt.subplot(111)\n",
    "ax.bar(zones, mean_importance_valence)\n",
    "\n"
   ]
  },
  {
   "cell_type": "markdown",
   "metadata": {},
   "source": [
    "#### Zones importance for Arousal classification"
   ]
  },
  {
   "cell_type": "code",
   "execution_count": 82,
   "metadata": {},
   "outputs": [
    {
     "data": {
      "text/plain": [
       "<Container object of 8 artists>"
      ]
     },
     "execution_count": 82,
     "metadata": {},
     "output_type": "execute_result"
    },
    {
     "data": {
      "image/png": "[encoded data removed]",
      "text/plain": [
       "<matplotlib.figure.Figure at 0x7ff2de6fdef0>"
      ]
     },
     "metadata": {},
     "output_type": "display_data"
    }
   ],
   "source": [
    "zones=['Hand','fore','arm','shoul','chst','abs','upbk','lowbk']\n",
    "fig = plt.figure()\n",
    "ax = plt.subplot(111)\n",
    "ax.bar(zones, mean_importance_arousal)\n",
    "\n"
   ]
  },
  {
   "cell_type": "markdown",
   "metadata": {},
   "source": [
    "### Motion-Energy and classification"
   ]
  },
  {
   "cell_type": "markdown",
   "metadata": {},
   "source": [
    "#### ME-----> Action"
   ]
  },
  {
   "cell_type": "code",
   "execution_count": 83,
   "metadata": {},
   "outputs": [
    {
     "name": "stdout",
     "output_type": "stream",
     "text": [
      "#############  Accuracy of the classifier for ME------>actions(hug,slap,...) 1.0\n"
     ]
    }
   ],
   "source": [
    "X_train, X_test, y_train, y_test = train_test_split(\n",
    "    y_ME.reshape(-1,1), np.round(y_action), test_size=0.33, random_state=42)\n",
    "mean_importance_action,mean_scores_action=do_classify(X_train,y_train,X_test,y_test)\n",
    "print('#############  Accuracy of the classifier for ME------>actions(hug,slap,...)',mean_scores_action)\n",
    "      "
   ]
  },
  {
   "cell_type": "markdown",
   "metadata": {},
   "source": [
    "#### ME------->Valence"
   ]
  },
  {
   "cell_type": "code",
   "execution_count": 84,
   "metadata": {},
   "outputs": [
    {
     "name": "stdout",
     "output_type": "stream",
     "text": [
      "#############  Accuracy of the classifier for ME------> Valence  1.0\n"
     ]
    }
   ],
   "source": [
    "X_train, X_test, y_train, y_test = train_test_split(\n",
    "    y_ME.reshape(-1,1), np.round(y_valence), test_size=0.33, random_state=42)\n",
    "mean_importance_valence,mean_scores_valence=do_classify(X_train,y_train,X_test,y_test)\n",
    "print('#############  Accuracy of the classifier for ME------> Valence ',mean_scores_valence)"
   ]
  },
  {
   "cell_type": "markdown",
   "metadata": {},
   "source": [
    "#### ME-------->Arousal"
   ]
  },
  {
   "cell_type": "code",
   "execution_count": 85,
   "metadata": {},
   "outputs": [
    {
     "name": "stdout",
     "output_type": "stream",
     "text": [
      "#############  Accuracy of the classifier for ME------>Arousal 1.0\n"
     ]
    }
   ],
   "source": [
    "X_train, X_test, y_train, y_test = train_test_split(\n",
    "    y_ME.reshape(-1,1), np.round(y_arousal), test_size=0.33, random_state=42)\n",
    "mean_importance_arousal,mean_scores_arousal=do_classify(X_train,y_train,X_test,y_test)\n",
    "print('#############  Accuracy of the classifier for ME------>Arousal',mean_scores_arousal)"
   ]
  }
 ],
 "metadata": {
  "kernelspec": {
   "display_name": "Python 3",
   "language": "python",
   "name": "python3"
  },
  "language_info": {
   "codemirror_mode": {
    "name": "ipython",
    "version": 3
   },
   "file_extension": ".py",
   "mimetype": "text/x-python",
   "name": "python",
   "nbconvert_exporter": "python",
   "pygments_lexer": "ipython3",
   "version": "3.6.4"
  }
 },
 "nbformat": 4,
 "nbformat_minor": 2
}
